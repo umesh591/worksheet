{
 "cells": [
  {
   "cell_type": "markdown",
   "metadata": {},
   "source": [
    "<h3>14.  Write a python program to solve a quadratic equation of the form 𝑎𝑥² + \n",
    "𝑏𝑥 + 𝑐 = 0. Where a, b and c are to\n",
    "be taken by user input. Handle the erroneous input, such as ‘a’ should not be \n",
    "equal to 0.</h3>"
   ]
  },
  {
   "cell_type": "code",
   "execution_count": 1,
   "metadata": {},
   "outputs": [],
   "source": [
    "\n",
    "def findRoots( a, b, c): \n",
    "  \n",
    "    if a == 0: \n",
    "        return \"Invalid\"\n",
    "    \n",
    "    d = b * b - 4 * a * c      #b^2-4ac\n",
    "    sqrt_val = (abs(d))**0.5\n",
    "    print(sqrt_val)\n",
    "      \n",
    "    if d > 0: \n",
    "        print(\"Roots are real and different \") \n",
    "        print((-b + sqrt_val)/(2 * a)) \n",
    "        print((-b - sqrt_val)/(2 * a)) \n",
    "    elif d == 0: \n",
    "        print(\"Roots are real and same\") \n",
    "        print(-b / (2*a)) \n",
    "    else: #d<0 \n",
    "        print(\"Roots are complex\") \n",
    "        print(- b / (2*a) , \" + i\", sqrt_val) \n",
    "        print(- b / (2*a) , \" - i\", sqrt_val) "
   ]
  },
  {
   "cell_type": "code",
   "execution_count": 2,
   "metadata": {},
   "outputs": [
    {
     "name": "stdout",
     "output_type": "stream",
     "text": [
      "2.6457513110645907\n",
      "Roots are complex\n",
      "-0.5  + i 2.6457513110645907\n",
      "-0.5  - i 2.6457513110645907\n"
     ]
    }
   ],
   "source": [
    "findRoots(1,1,2)"
   ]
  },
  {
   "cell_type": "markdown",
   "metadata": {},
   "source": [
    "<h3> 15.  Write a python program to find the sum of first ‘n’ natural numbers \n",
    "without using any loop. Ask user to input\n",
    "the value of ‘n’.</h3>"
   ]
  },
  {
   "cell_type": "code",
   "execution_count": 3,
   "metadata": {},
   "outputs": [
    {
     "name": "stdout",
     "output_type": "stream",
     "text": [
      "Enter Number10\n",
      "55.0\n"
     ]
    }
   ],
   "source": [
    "val = int(input(\"Enter Number\"))\n",
    "ans = (val*(val+1))/2\n",
    "print(ans)"
   ]
  },
  {
   "cell_type": "markdown",
   "metadata": {},
   "source": [
    "<h4>Suppose you have a string “I+Love+Python”, \n",
    "write a small code to replace ‘+’\n",
    "with space in python.\n",
    "</h4>"
   ]
  },
  {
   "cell_type": "code",
   "execution_count": 4,
   "metadata": {},
   "outputs": [],
   "source": [
    "s=\"I+Love+Python\""
   ]
  },
  {
   "cell_type": "code",
   "execution_count": 5,
   "metadata": {},
   "outputs": [],
   "source": [
    "a = s.replace('+',' ')"
   ]
  },
  {
   "cell_type": "code",
   "execution_count": 6,
   "metadata": {},
   "outputs": [
    {
     "data": {
      "text/plain": [
       "'I Love Python'"
      ]
     },
     "execution_count": 6,
     "metadata": {},
     "output_type": "execute_result"
    }
   ],
   "source": [
    "a"
   ]
  },
  {
   "cell_type": "markdown",
   "metadata": {},
   "source": [
    "<h4>write down the function for getting\n",
    "the datatype of a variable in python.</h4>"
   ]
  },
  {
   "cell_type": "code",
   "execution_count": 7,
   "metadata": {},
   "outputs": [],
   "source": [
    "b =1"
   ]
  },
  {
   "cell_type": "code",
   "execution_count": 8,
   "metadata": {},
   "outputs": [
    {
     "data": {
      "text/plain": [
       "int"
      ]
     },
     "execution_count": 8,
     "metadata": {},
     "output_type": "execute_result"
    }
   ],
   "source": [
    "type(b)"
   ]
  },
  {
   "cell_type": "code",
   "execution_count": null,
   "metadata": {},
   "outputs": [],
   "source": []
  }
 ],
 "metadata": {
  "kernelspec": {
   "display_name": "Python 3",
   "language": "python",
   "name": "python3"
  },
  "language_info": {
   "codemirror_mode": {
    "name": "ipython",
    "version": 3
   },
   "file_extension": ".py",
   "mimetype": "text/x-python",
   "name": "python",
   "nbconvert_exporter": "python",
   "pygments_lexer": "ipython3",
   "version": "3.7.3"
  }
 },
 "nbformat": 4,
 "nbformat_minor": 2
}
